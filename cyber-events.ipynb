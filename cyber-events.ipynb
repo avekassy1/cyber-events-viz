{
 "cells": [
  {
   "cell_type": "code",
   "execution_count": 30,
   "metadata": {},
   "outputs": [
    {
     "name": "stdout",
     "output_type": "stream",
     "text": [
      "2.2.3\n",
      "2.1.3\n"
     ]
    }
   ],
   "source": [
    "import pandas as pd\n",
    "import numpy as np\n",
    "print(pd.__version__)\n",
    "print(np.__version__)"
   ]
  },
  {
   "cell_type": "code",
   "execution_count": 2,
   "metadata": {},
   "outputs": [
    {
     "data": {
      "text/html": [
       "<div>\n",
       "<style scoped>\n",
       "    .dataframe tbody tr th:only-of-type {\n",
       "        vertical-align: middle;\n",
       "    }\n",
       "\n",
       "    .dataframe tbody tr th {\n",
       "        vertical-align: top;\n",
       "    }\n",
       "\n",
       "    .dataframe thead th {\n",
       "        text-align: right;\n",
       "    }\n",
       "</style>\n",
       "<table border=\"1\" class=\"dataframe\">\n",
       "  <thead>\n",
       "    <tr style=\"text-align: right;\">\n",
       "      <th></th>\n",
       "      <th>slug</th>\n",
       "      <th>event_date</th>\n",
       "      <th>year</th>\n",
       "      <th>month</th>\n",
       "      <th>actor</th>\n",
       "      <th>actor_type</th>\n",
       "      <th>organization</th>\n",
       "      <th>industry_code</th>\n",
       "      <th>industry</th>\n",
       "      <th>motive</th>\n",
       "      <th>event_type</th>\n",
       "      <th>event_subtype</th>\n",
       "      <th>description</th>\n",
       "      <th>source_url</th>\n",
       "      <th>country</th>\n",
       "      <th>actor_country</th>\n",
       "      <th>change_log</th>\n",
       "    </tr>\n",
       "  </thead>\n",
       "  <tbody>\n",
       "    <tr>\n",
       "      <th>0</th>\n",
       "      <td>1f72c2eb8ab303e4</td>\n",
       "      <td>2014-01-01</td>\n",
       "      <td>2014</td>\n",
       "      <td>1</td>\n",
       "      <td>Undetermined</td>\n",
       "      <td>Criminal</td>\n",
       "      <td>Barry University</td>\n",
       "      <td>61</td>\n",
       "      <td>Educational Services</td>\n",
       "      <td>Undetermined</td>\n",
       "      <td>Exploitive</td>\n",
       "      <td>Exploitation of End Hosts</td>\n",
       "      <td>Barry University notifies patients of its Foot...</td>\n",
       "      <td>https://www.beckershospitalreview.com/healthca...</td>\n",
       "      <td>United States of America</td>\n",
       "      <td>Undetermined</td>\n",
       "      <td>NaN</td>\n",
       "    </tr>\n",
       "    <tr>\n",
       "      <th>1</th>\n",
       "      <td>ecac8b3e60a2f72f</td>\n",
       "      <td>2014-01-01</td>\n",
       "      <td>2014</td>\n",
       "      <td>1</td>\n",
       "      <td>Undetermined</td>\n",
       "      <td>Criminal</td>\n",
       "      <td>Record Assist LLC</td>\n",
       "      <td>54</td>\n",
       "      <td>Professional, Scientific, and Technical Services</td>\n",
       "      <td>Undetermined</td>\n",
       "      <td>Exploitive</td>\n",
       "      <td>Exploitation of Application Server</td>\n",
       "      <td>Record Assist LLC notifies of an unauthorized ...</td>\n",
       "      <td>https://privacyrights.org/data-breaches/record...</td>\n",
       "      <td>United States of America</td>\n",
       "      <td>Undetermined</td>\n",
       "      <td>NaN</td>\n",
       "    </tr>\n",
       "    <tr>\n",
       "      <th>2</th>\n",
       "      <td>3bbe0695e2d019f3</td>\n",
       "      <td>2014-01-01</td>\n",
       "      <td>2014</td>\n",
       "      <td>1</td>\n",
       "      <td>Syrian Electronic Army</td>\n",
       "      <td>Hacktivist</td>\n",
       "      <td>Skype's Social Media</td>\n",
       "      <td>54</td>\n",
       "      <td>Professional, Scientific, and Technical Services</td>\n",
       "      <td>Protest</td>\n",
       "      <td>Disruptive</td>\n",
       "      <td>Message Manipulation</td>\n",
       "      <td>The Syrian Electronic Army hacks Skype's Twitt...</td>\n",
       "      <td>http://thenextweb.com/microsoft/2014/01/01/sky...</td>\n",
       "      <td>United States of America</td>\n",
       "      <td>Syrian Arab Republic</td>\n",
       "      <td>NaN</td>\n",
       "    </tr>\n",
       "    <tr>\n",
       "      <th>3</th>\n",
       "      <td>6100014f6ca84b3d</td>\n",
       "      <td>2014-01-02</td>\n",
       "      <td>2014</td>\n",
       "      <td>1</td>\n",
       "      <td>Undetermined</td>\n",
       "      <td>Criminal</td>\n",
       "      <td>Snapchat</td>\n",
       "      <td>51</td>\n",
       "      <td>Information</td>\n",
       "      <td>Undetermined</td>\n",
       "      <td>Exploitive</td>\n",
       "      <td>Exploitation of Application Server</td>\n",
       "      <td>Greyhat hackers publish the partial phone numb...</td>\n",
       "      <td>http://arstechnica.com/security/2014/01/greyha...</td>\n",
       "      <td>United States of America</td>\n",
       "      <td>Undetermined</td>\n",
       "      <td>NaN</td>\n",
       "    </tr>\n",
       "    <tr>\n",
       "      <th>4</th>\n",
       "      <td>3a94b8cf6dde1f66</td>\n",
       "      <td>2014-01-03</td>\n",
       "      <td>2014</td>\n",
       "      <td>1</td>\n",
       "      <td>DERP Trolling</td>\n",
       "      <td>Undetermined</td>\n",
       "      <td>Battle.net</td>\n",
       "      <td>51</td>\n",
       "      <td>Information</td>\n",
       "      <td>Undetermined</td>\n",
       "      <td>Disruptive</td>\n",
       "      <td>External Denial of Service</td>\n",
       "      <td>The servers for Steam, Origin, Battle.net, and...</td>\n",
       "      <td>http://arstechnica.com/gaming/2014/01/multiple...</td>\n",
       "      <td>United States of America</td>\n",
       "      <td>Undetermined</td>\n",
       "      <td>NaN</td>\n",
       "    </tr>\n",
       "  </tbody>\n",
       "</table>\n",
       "</div>"
      ],
      "text/plain": [
       "               slug  event_date  year  month                   actor  \\\n",
       "0  1f72c2eb8ab303e4  2014-01-01  2014      1            Undetermined   \n",
       "1  ecac8b3e60a2f72f  2014-01-01  2014      1            Undetermined   \n",
       "2  3bbe0695e2d019f3  2014-01-01  2014      1  Syrian Electronic Army   \n",
       "3  6100014f6ca84b3d  2014-01-02  2014      1            Undetermined   \n",
       "4  3a94b8cf6dde1f66  2014-01-03  2014      1           DERP Trolling   \n",
       "\n",
       "     actor_type          organization  industry_code  \\\n",
       "0      Criminal      Barry University             61   \n",
       "1      Criminal     Record Assist LLC             54   \n",
       "2    Hacktivist  Skype's Social Media             54   \n",
       "3      Criminal              Snapchat             51   \n",
       "4  Undetermined            Battle.net             51   \n",
       "\n",
       "                                           industry        motive  event_type  \\\n",
       "0                              Educational Services  Undetermined  Exploitive   \n",
       "1  Professional, Scientific, and Technical Services  Undetermined  Exploitive   \n",
       "2  Professional, Scientific, and Technical Services       Protest  Disruptive   \n",
       "3                                       Information  Undetermined  Exploitive   \n",
       "4                                       Information  Undetermined  Disruptive   \n",
       "\n",
       "                        event_subtype  \\\n",
       "0           Exploitation of End Hosts   \n",
       "1  Exploitation of Application Server   \n",
       "2                Message Manipulation   \n",
       "3  Exploitation of Application Server   \n",
       "4          External Denial of Service   \n",
       "\n",
       "                                         description  \\\n",
       "0  Barry University notifies patients of its Foot...   \n",
       "1  Record Assist LLC notifies of an unauthorized ...   \n",
       "2  The Syrian Electronic Army hacks Skype's Twitt...   \n",
       "3  Greyhat hackers publish the partial phone numb...   \n",
       "4  The servers for Steam, Origin, Battle.net, and...   \n",
       "\n",
       "                                          source_url  \\\n",
       "0  https://www.beckershospitalreview.com/healthca...   \n",
       "1  https://privacyrights.org/data-breaches/record...   \n",
       "2  http://thenextweb.com/microsoft/2014/01/01/sky...   \n",
       "3  http://arstechnica.com/security/2014/01/greyha...   \n",
       "4  http://arstechnica.com/gaming/2014/01/multiple...   \n",
       "\n",
       "                    country         actor_country change_log  \n",
       "0  United States of America          Undetermined        NaN  \n",
       "1  United States of America          Undetermined        NaN  \n",
       "2  United States of America  Syrian Arab Republic        NaN  \n",
       "3  United States of America          Undetermined        NaN  \n",
       "4  United States of America          Undetermined        NaN  "
      ]
     },
     "execution_count": 2,
     "metadata": {},
     "output_type": "execute_result"
    }
   ],
   "source": [
    "db = pd.read_excel(\"./Cyber-Events-Database.xlsx\")\n",
    "db.head()"
   ]
  },
  {
   "cell_type": "code",
   "execution_count": 3,
   "metadata": {},
   "outputs": [
    {
     "name": "stdout",
     "output_type": "stream",
     "text": [
      "(14041, 17)\n"
     ]
    },
    {
     "data": {
      "text/html": [
       "<div>\n",
       "<style scoped>\n",
       "    .dataframe tbody tr th:only-of-type {\n",
       "        vertical-align: middle;\n",
       "    }\n",
       "\n",
       "    .dataframe tbody tr th {\n",
       "        vertical-align: top;\n",
       "    }\n",
       "\n",
       "    .dataframe thead th {\n",
       "        text-align: right;\n",
       "    }\n",
       "</style>\n",
       "<table border=\"1\" class=\"dataframe\">\n",
       "  <thead>\n",
       "    <tr style=\"text-align: right;\">\n",
       "      <th></th>\n",
       "      <th>year</th>\n",
       "      <th>month</th>\n",
       "      <th>industry_code</th>\n",
       "    </tr>\n",
       "  </thead>\n",
       "  <tbody>\n",
       "    <tr>\n",
       "      <th>count</th>\n",
       "      <td>14041.000000</td>\n",
       "      <td>14041.000000</td>\n",
       "      <td>14041.000000</td>\n",
       "    </tr>\n",
       "    <tr>\n",
       "      <th>mean</th>\n",
       "      <td>2019.891461</td>\n",
       "      <td>6.403746</td>\n",
       "      <td>63.200983</td>\n",
       "    </tr>\n",
       "    <tr>\n",
       "      <th>std</th>\n",
       "      <td>2.873404</td>\n",
       "      <td>3.459927</td>\n",
       "      <td>18.904790</td>\n",
       "    </tr>\n",
       "    <tr>\n",
       "      <th>min</th>\n",
       "      <td>2014.000000</td>\n",
       "      <td>1.000000</td>\n",
       "      <td>11.000000</td>\n",
       "    </tr>\n",
       "    <tr>\n",
       "      <th>25%</th>\n",
       "      <td>2018.000000</td>\n",
       "      <td>3.000000</td>\n",
       "      <td>51.000000</td>\n",
       "    </tr>\n",
       "    <tr>\n",
       "      <th>50%</th>\n",
       "      <td>2020.000000</td>\n",
       "      <td>6.000000</td>\n",
       "      <td>61.000000</td>\n",
       "    </tr>\n",
       "    <tr>\n",
       "      <th>75%</th>\n",
       "      <td>2022.000000</td>\n",
       "      <td>9.000000</td>\n",
       "      <td>81.000000</td>\n",
       "    </tr>\n",
       "    <tr>\n",
       "      <th>max</th>\n",
       "      <td>2024.000000</td>\n",
       "      <td>12.000000</td>\n",
       "      <td>99.000000</td>\n",
       "    </tr>\n",
       "  </tbody>\n",
       "</table>\n",
       "</div>"
      ],
      "text/plain": [
       "               year         month  industry_code\n",
       "count  14041.000000  14041.000000   14041.000000\n",
       "mean    2019.891461      6.403746      63.200983\n",
       "std        2.873404      3.459927      18.904790\n",
       "min     2014.000000      1.000000      11.000000\n",
       "25%     2018.000000      3.000000      51.000000\n",
       "50%     2020.000000      6.000000      61.000000\n",
       "75%     2022.000000      9.000000      81.000000\n",
       "max     2024.000000     12.000000      99.000000"
      ]
     },
     "execution_count": 3,
     "metadata": {},
     "output_type": "execute_result"
    }
   ],
   "source": [
    "print(db.shape)\n",
    "db.describe()"
   ]
  },
  {
   "cell_type": "code",
   "execution_count": 4,
   "metadata": {},
   "outputs": [
    {
     "name": "stdout",
     "output_type": "stream",
     "text": [
      "<class 'pandas.core.frame.DataFrame'>\n",
      "RangeIndex: 14041 entries, 0 to 14040\n",
      "Data columns (total 17 columns):\n",
      " #   Column         Non-Null Count  Dtype \n",
      "---  ------         --------------  ----- \n",
      " 0   slug           14041 non-null  object\n",
      " 1   event_date     14041 non-null  object\n",
      " 2   year           14041 non-null  int64 \n",
      " 3   month          14041 non-null  int64 \n",
      " 4   actor          14041 non-null  object\n",
      " 5   actor_type     14041 non-null  object\n",
      " 6   organization   14041 non-null  object\n",
      " 7   industry_code  14041 non-null  int64 \n",
      " 8   industry       14041 non-null  object\n",
      " 9   motive         14041 non-null  object\n",
      " 10  event_type     14041 non-null  object\n",
      " 11  event_subtype  14041 non-null  object\n",
      " 12  description    14041 non-null  object\n",
      " 13  source_url     14037 non-null  object\n",
      " 14  country        14041 non-null  object\n",
      " 15  actor_country  14041 non-null  object\n",
      " 16  change_log     59 non-null     object\n",
      "dtypes: int64(3), object(14)\n",
      "memory usage: 1.8+ MB\n"
     ]
    }
   ],
   "source": [
    "db.info()\n",
    "# TODO: date type set"
   ]
  },
  {
   "cell_type": "code",
   "execution_count": 5,
   "metadata": {},
   "outputs": [
    {
     "data": {
      "text/plain": [
       "actor_type\n",
       "Criminal        10676\n",
       "Hacktivist       1909\n",
       "Nation-State      803\n",
       "Undetermined      415\n",
       "Hobbyist          191\n",
       "Terrorist          30\n",
       "Hacktvist          17\n",
       "Name: count, dtype: int64"
      ]
     },
     "execution_count": 5,
     "metadata": {},
     "output_type": "execute_result"
    }
   ],
   "source": [
    "db[\"actor_type\"].value_counts()"
   ]
  },
  {
   "cell_type": "code",
   "execution_count": 6,
   "metadata": {},
   "outputs": [
    {
     "data": {
      "text/plain": [
       "industry\n",
       "Public Administration                                                       2648\n",
       "Health Care and Social Assistance                                           1865\n",
       "Information                                                                 1441\n",
       "Finance and Insurance                                                       1340\n",
       "Educational Services                                                        1322\n",
       "Professional, Scientific, and Technical Services                            1170\n",
       "Other Services (except Public Administration)                                937\n",
       "Manufacturing                                                                645\n",
       "Retail Trade                                                                 469\n",
       "Transportation and Warehousing                                               443\n",
       "Arts, Entertainment, and Recreation                                          420\n",
       "Accommodation and Food Services                                              306\n",
       "Utilities                                                                    270\n",
       "Undetermined                                                                 209\n",
       "Administrative and Support and Waste Management and Remediation Services     179\n",
       "Wholesale Trade                                                              107\n",
       "Real Estate and Rental and Leasing                                            84\n",
       "Mining, Quarrying, and Oil and Gas Extraction                                 73\n",
       "Construction                                                                  47\n",
       "Health Care and Social Services                                               27\n",
       "Management of Companies and Enterprises                                       20\n",
       "Agriculture, Forestry, Fishing and Hunting                                    18\n",
       "Medusa                                                                         1\n",
       "Name: count, dtype: int64"
      ]
     },
     "execution_count": 6,
     "metadata": {},
     "output_type": "execute_result"
    }
   ],
   "source": [
    "db[\"industry\"].value_counts()"
   ]
  },
  {
   "cell_type": "code",
   "execution_count": 7,
   "metadata": {},
   "outputs": [
    {
     "data": {
      "text/plain": [
       "industry_code\n",
       "92    2647\n",
       "62    1892\n",
       "51    1441\n",
       "52    1340\n",
       "61    1322\n",
       "54    1169\n",
       "81     937\n",
       "31     555\n",
       "44     457\n",
       "48     437\n",
       "71     420\n",
       "72     306\n",
       "22     270\n",
       "99     212\n",
       "56     179\n",
       "42     107\n",
       "53      84\n",
       "33      76\n",
       "21      73\n",
       "23      47\n",
       "55      20\n",
       "11      18\n",
       "32      14\n",
       "45      12\n",
       "49       6\n",
       "Name: count, dtype: int64"
      ]
     },
     "execution_count": 7,
     "metadata": {},
     "output_type": "execute_result"
    }
   ],
   "source": [
    "db.industry_code.value_counts()\n",
    "# Why is it not matching with the value counts above?"
   ]
  },
  {
   "cell_type": "code",
   "execution_count": 8,
   "metadata": {},
   "outputs": [
    {
     "data": {
      "text/plain": [
       "year\n",
       "2014     633\n",
       "2015     857\n",
       "2016    1104\n",
       "2017     810\n",
       "2018     824\n",
       "2019    1067\n",
       "2020    1747\n",
       "2021    1430\n",
       "2022    2562\n",
       "2023    2462\n",
       "2024     545\n",
       "Name: count, dtype: int64"
      ]
     },
     "execution_count": 8,
     "metadata": {},
     "output_type": "execute_result"
    }
   ],
   "source": [
    "db.year.value_counts(sort=False)"
   ]
  },
  {
   "cell_type": "code",
   "execution_count": 9,
   "metadata": {},
   "outputs": [
    {
     "data": {
      "text/plain": [
       "Index(['slug', 'event_date', 'year', 'month', 'actor', 'actor_type',\n",
       "       'organization', 'industry_code', 'industry', 'motive', 'event_type',\n",
       "       'event_subtype', 'description', 'source_url', 'country',\n",
       "       'actor_country', 'change_log'],\n",
       "      dtype='object')"
      ]
     },
     "execution_count": 9,
     "metadata": {},
     "output_type": "execute_result"
    }
   ],
   "source": [
    "db.columns"
   ]
  },
  {
   "cell_type": "code",
   "execution_count": 10,
   "metadata": {},
   "outputs": [
    {
     "data": {
      "text/plain": [
       "motive\n",
       "Financial                      8034\n",
       "Undetermined                   3119\n",
       "Protest                        1680\n",
       "Political-Espionage             679\n",
       "Sabotage                        340\n",
       "Industrial-Espionage             94\n",
       "Personal Attack                  93\n",
       "Protest,Financial                 1\n",
       "Protest;Political-Espionage       1\n",
       "Name: count, dtype: int64"
      ]
     },
     "execution_count": 10,
     "metadata": {},
     "output_type": "execute_result"
    }
   ],
   "source": [
    "db.motive.value_counts()"
   ]
  },
  {
   "cell_type": "code",
   "execution_count": 11,
   "metadata": {},
   "outputs": [
    {
     "data": {
      "text/plain": [
       "organization\n",
       "Cartoon Network                                                                                                                                                                      14\n",
       "Microsoft                                                                                                                                                                            14\n",
       "Union Power Ministry (10 Substations and Transmission Stations)                                                                                                                      10\n",
       "T-Mobile                                                                                                                                                                             10\n",
       "Various Government Websites                                                                                                                                                           9\n",
       "Bitfinex                                                                                                                                                                              8\n",
       "Spotify                                                                                                                                                                               8\n",
       "Twitter                                                                                                                                                                               7\n",
       "GitHub                                                                                                                                                                                7\n",
       "Sberbank                                                                                                                                                                              7\n",
       "Undisclosed organization                                                                                                                                                              7\n",
       "Cloudflare                                                                                                                                                                            7\n",
       "High-profile individuals working on Middle Eastern affairs at universities and research organizations in Belgium, France, Gaza, Israel, the United Kingdom, and the United States     6\n",
       "Reddit                                                                                                                                                                                6\n",
       "Name: count, dtype: int64"
      ]
     },
     "execution_count": 11,
     "metadata": {},
     "output_type": "execute_result"
    }
   ],
   "source": [
    "# In top place is undetermined\n",
    "db.organization.value_counts()[1:15]"
   ]
  },
  {
   "cell_type": "code",
   "execution_count": 12,
   "metadata": {},
   "outputs": [
    {
     "data": {
      "text/html": [
       "<div>\n",
       "<style scoped>\n",
       "    .dataframe tbody tr th:only-of-type {\n",
       "        vertical-align: middle;\n",
       "    }\n",
       "\n",
       "    .dataframe tbody tr th {\n",
       "        vertical-align: top;\n",
       "    }\n",
       "\n",
       "    .dataframe thead th {\n",
       "        text-align: right;\n",
       "    }\n",
       "</style>\n",
       "<table border=\"1\" class=\"dataframe\">\n",
       "  <thead>\n",
       "    <tr style=\"text-align: right;\">\n",
       "      <th></th>\n",
       "      <th>slug</th>\n",
       "      <th>event_date</th>\n",
       "      <th>year</th>\n",
       "      <th>month</th>\n",
       "      <th>actor</th>\n",
       "      <th>actor_type</th>\n",
       "      <th>organization</th>\n",
       "      <th>industry_code</th>\n",
       "      <th>industry</th>\n",
       "      <th>motive</th>\n",
       "      <th>event_type</th>\n",
       "      <th>event_subtype</th>\n",
       "      <th>description</th>\n",
       "      <th>source_url</th>\n",
       "      <th>country</th>\n",
       "      <th>actor_country</th>\n",
       "      <th>change_log</th>\n",
       "    </tr>\n",
       "  </thead>\n",
       "  <tbody>\n",
       "    <tr>\n",
       "      <th>0</th>\n",
       "      <td>1f72c2eb8ab303e4</td>\n",
       "      <td>2014-01-01</td>\n",
       "      <td>2014</td>\n",
       "      <td>1</td>\n",
       "      <td>Undetermined</td>\n",
       "      <td>Criminal</td>\n",
       "      <td>Barry University</td>\n",
       "      <td>61</td>\n",
       "      <td>Educational Services</td>\n",
       "      <td>Undetermined</td>\n",
       "      <td>Exploitive</td>\n",
       "      <td>Exploitation of End Hosts</td>\n",
       "      <td>Barry University notifies patients of its Foot...</td>\n",
       "      <td>https://www.beckershospitalreview.com/healthca...</td>\n",
       "      <td>United States of America</td>\n",
       "      <td>Undetermined</td>\n",
       "      <td>NaN</td>\n",
       "    </tr>\n",
       "    <tr>\n",
       "      <th>1</th>\n",
       "      <td>ecac8b3e60a2f72f</td>\n",
       "      <td>2014-01-01</td>\n",
       "      <td>2014</td>\n",
       "      <td>1</td>\n",
       "      <td>Undetermined</td>\n",
       "      <td>Criminal</td>\n",
       "      <td>Record Assist LLC</td>\n",
       "      <td>54</td>\n",
       "      <td>Professional, Scientific, and Technical Services</td>\n",
       "      <td>Undetermined</td>\n",
       "      <td>Exploitive</td>\n",
       "      <td>Exploitation of Application Server</td>\n",
       "      <td>Record Assist LLC notifies of an unauthorized ...</td>\n",
       "      <td>https://privacyrights.org/data-breaches/record...</td>\n",
       "      <td>United States of America</td>\n",
       "      <td>Undetermined</td>\n",
       "      <td>NaN</td>\n",
       "    </tr>\n",
       "    <tr>\n",
       "      <th>2</th>\n",
       "      <td>3bbe0695e2d019f3</td>\n",
       "      <td>2014-01-01</td>\n",
       "      <td>2014</td>\n",
       "      <td>1</td>\n",
       "      <td>Syrian Electronic Army</td>\n",
       "      <td>Hacktivist</td>\n",
       "      <td>Skype's Social Media</td>\n",
       "      <td>54</td>\n",
       "      <td>Professional, Scientific, and Technical Services</td>\n",
       "      <td>Protest</td>\n",
       "      <td>Disruptive</td>\n",
       "      <td>Message Manipulation</td>\n",
       "      <td>The Syrian Electronic Army hacks Skype's Twitt...</td>\n",
       "      <td>http://thenextweb.com/microsoft/2014/01/01/sky...</td>\n",
       "      <td>United States of America</td>\n",
       "      <td>Syrian Arab Republic</td>\n",
       "      <td>NaN</td>\n",
       "    </tr>\n",
       "    <tr>\n",
       "      <th>3</th>\n",
       "      <td>6100014f6ca84b3d</td>\n",
       "      <td>2014-01-02</td>\n",
       "      <td>2014</td>\n",
       "      <td>1</td>\n",
       "      <td>Undetermined</td>\n",
       "      <td>Criminal</td>\n",
       "      <td>Snapchat</td>\n",
       "      <td>51</td>\n",
       "      <td>Information</td>\n",
       "      <td>Undetermined</td>\n",
       "      <td>Exploitive</td>\n",
       "      <td>Exploitation of Application Server</td>\n",
       "      <td>Greyhat hackers publish the partial phone numb...</td>\n",
       "      <td>http://arstechnica.com/security/2014/01/greyha...</td>\n",
       "      <td>United States of America</td>\n",
       "      <td>Undetermined</td>\n",
       "      <td>NaN</td>\n",
       "    </tr>\n",
       "    <tr>\n",
       "      <th>4</th>\n",
       "      <td>3a94b8cf6dde1f66</td>\n",
       "      <td>2014-01-03</td>\n",
       "      <td>2014</td>\n",
       "      <td>1</td>\n",
       "      <td>DERP Trolling</td>\n",
       "      <td>Undetermined</td>\n",
       "      <td>Battle.net</td>\n",
       "      <td>51</td>\n",
       "      <td>Information</td>\n",
       "      <td>Undetermined</td>\n",
       "      <td>Disruptive</td>\n",
       "      <td>External Denial of Service</td>\n",
       "      <td>The servers for Steam, Origin, Battle.net, and...</td>\n",
       "      <td>http://arstechnica.com/gaming/2014/01/multiple...</td>\n",
       "      <td>United States of America</td>\n",
       "      <td>Undetermined</td>\n",
       "      <td>NaN</td>\n",
       "    </tr>\n",
       "  </tbody>\n",
       "</table>\n",
       "</div>"
      ],
      "text/plain": [
       "               slug  event_date  year  month                   actor  \\\n",
       "0  1f72c2eb8ab303e4  2014-01-01  2014      1            Undetermined   \n",
       "1  ecac8b3e60a2f72f  2014-01-01  2014      1            Undetermined   \n",
       "2  3bbe0695e2d019f3  2014-01-01  2014      1  Syrian Electronic Army   \n",
       "3  6100014f6ca84b3d  2014-01-02  2014      1            Undetermined   \n",
       "4  3a94b8cf6dde1f66  2014-01-03  2014      1           DERP Trolling   \n",
       "\n",
       "     actor_type          organization  industry_code  \\\n",
       "0      Criminal      Barry University             61   \n",
       "1      Criminal     Record Assist LLC             54   \n",
       "2    Hacktivist  Skype's Social Media             54   \n",
       "3      Criminal              Snapchat             51   \n",
       "4  Undetermined            Battle.net             51   \n",
       "\n",
       "                                           industry        motive  event_type  \\\n",
       "0                              Educational Services  Undetermined  Exploitive   \n",
       "1  Professional, Scientific, and Technical Services  Undetermined  Exploitive   \n",
       "2  Professional, Scientific, and Technical Services       Protest  Disruptive   \n",
       "3                                       Information  Undetermined  Exploitive   \n",
       "4                                       Information  Undetermined  Disruptive   \n",
       "\n",
       "                        event_subtype  \\\n",
       "0           Exploitation of End Hosts   \n",
       "1  Exploitation of Application Server   \n",
       "2                Message Manipulation   \n",
       "3  Exploitation of Application Server   \n",
       "4          External Denial of Service   \n",
       "\n",
       "                                         description  \\\n",
       "0  Barry University notifies patients of its Foot...   \n",
       "1  Record Assist LLC notifies of an unauthorized ...   \n",
       "2  The Syrian Electronic Army hacks Skype's Twitt...   \n",
       "3  Greyhat hackers publish the partial phone numb...   \n",
       "4  The servers for Steam, Origin, Battle.net, and...   \n",
       "\n",
       "                                          source_url  \\\n",
       "0  https://www.beckershospitalreview.com/healthca...   \n",
       "1  https://privacyrights.org/data-breaches/record...   \n",
       "2  http://thenextweb.com/microsoft/2014/01/01/sky...   \n",
       "3  http://arstechnica.com/security/2014/01/greyha...   \n",
       "4  http://arstechnica.com/gaming/2014/01/multiple...   \n",
       "\n",
       "                    country         actor_country change_log  \n",
       "0  United States of America          Undetermined        NaN  \n",
       "1  United States of America          Undetermined        NaN  \n",
       "2  United States of America  Syrian Arab Republic        NaN  \n",
       "3  United States of America          Undetermined        NaN  \n",
       "4  United States of America          Undetermined        NaN  "
      ]
     },
     "execution_count": 12,
     "metadata": {},
     "output_type": "execute_result"
    }
   ],
   "source": [
    "db.head()\n",
    "# What I'm missing: value stolen or damage caused"
   ]
  },
  {
   "cell_type": "code",
   "execution_count": 13,
   "metadata": {},
   "outputs": [],
   "source": [
    "# Dashboard idea\n",
    "# Cyber attacks in terms of numbers over ten year period (2014 - 2024)\n",
    "# User can select one (or more?) industries\n",
    "\n",
    "# Overall (all industries) -> line chart\n",
    "# One industry -> ?\n",
    "# Multiple industries -> bar chart\n",
    "\n",
    "# Additional selectors for years"
   ]
  },
  {
   "cell_type": "code",
   "execution_count": 31,
   "metadata": {},
   "outputs": [
    {
     "name": "stdout",
     "output_type": "stream",
     "text": [
      "5.24.1\n"
     ]
    }
   ],
   "source": [
    "import plotly\n",
    "import plotly.graph_objects as go\n",
    "import plotly.express as px\n",
    "print(plotly.__version__)"
   ]
  },
  {
   "cell_type": "code",
   "execution_count": 15,
   "metadata": {},
   "outputs": [
    {
     "name": "stdout",
     "output_type": "stream",
     "text": [
      "(14041, 17) (14041,)\n"
     ]
    }
   ],
   "source": [
    "# yearly_breakdown = db.year.value_counts()\n",
    "yearly_breakdown = db.groupby(by=[\"year\"]).count()[\"slug\"].to_frame().reset_index()\n",
    "yearly_breakdown.columns = [\"Year\", \"no_incidents\"]\n",
    "yearly_breakdown[\"cs_incidents\"] = np.cumsum(yearly_breakdown.no_incidents)\n",
    "\n",
    "# Checking for NaNs in slug columns (hash)\n",
    "print(db.shape, db.slug.dropna().shape) "
   ]
  },
  {
   "cell_type": "code",
   "execution_count": 16,
   "metadata": {},
   "outputs": [
    {
     "data": {
      "text/html": [
       "<div>\n",
       "<style scoped>\n",
       "    .dataframe tbody tr th:only-of-type {\n",
       "        vertical-align: middle;\n",
       "    }\n",
       "\n",
       "    .dataframe tbody tr th {\n",
       "        vertical-align: top;\n",
       "    }\n",
       "\n",
       "    .dataframe thead th {\n",
       "        text-align: right;\n",
       "    }\n",
       "</style>\n",
       "<table border=\"1\" class=\"dataframe\">\n",
       "  <thead>\n",
       "    <tr style=\"text-align: right;\">\n",
       "      <th></th>\n",
       "      <th>Year</th>\n",
       "      <th>no_incidents</th>\n",
       "      <th>cs_incidents</th>\n",
       "    </tr>\n",
       "  </thead>\n",
       "  <tbody>\n",
       "    <tr>\n",
       "      <th>0</th>\n",
       "      <td>2014</td>\n",
       "      <td>633</td>\n",
       "      <td>633</td>\n",
       "    </tr>\n",
       "    <tr>\n",
       "      <th>1</th>\n",
       "      <td>2015</td>\n",
       "      <td>857</td>\n",
       "      <td>1490</td>\n",
       "    </tr>\n",
       "    <tr>\n",
       "      <th>2</th>\n",
       "      <td>2016</td>\n",
       "      <td>1104</td>\n",
       "      <td>2594</td>\n",
       "    </tr>\n",
       "    <tr>\n",
       "      <th>3</th>\n",
       "      <td>2017</td>\n",
       "      <td>810</td>\n",
       "      <td>3404</td>\n",
       "    </tr>\n",
       "    <tr>\n",
       "      <th>4</th>\n",
       "      <td>2018</td>\n",
       "      <td>824</td>\n",
       "      <td>4228</td>\n",
       "    </tr>\n",
       "    <tr>\n",
       "      <th>5</th>\n",
       "      <td>2019</td>\n",
       "      <td>1067</td>\n",
       "      <td>5295</td>\n",
       "    </tr>\n",
       "    <tr>\n",
       "      <th>6</th>\n",
       "      <td>2020</td>\n",
       "      <td>1747</td>\n",
       "      <td>7042</td>\n",
       "    </tr>\n",
       "    <tr>\n",
       "      <th>7</th>\n",
       "      <td>2021</td>\n",
       "      <td>1430</td>\n",
       "      <td>8472</td>\n",
       "    </tr>\n",
       "    <tr>\n",
       "      <th>8</th>\n",
       "      <td>2022</td>\n",
       "      <td>2562</td>\n",
       "      <td>11034</td>\n",
       "    </tr>\n",
       "    <tr>\n",
       "      <th>9</th>\n",
       "      <td>2023</td>\n",
       "      <td>2462</td>\n",
       "      <td>13496</td>\n",
       "    </tr>\n",
       "    <tr>\n",
       "      <th>10</th>\n",
       "      <td>2024</td>\n",
       "      <td>545</td>\n",
       "      <td>14041</td>\n",
       "    </tr>\n",
       "  </tbody>\n",
       "</table>\n",
       "</div>"
      ],
      "text/plain": [
       "    Year  no_incidents  cs_incidents\n",
       "0   2014           633           633\n",
       "1   2015           857          1490\n",
       "2   2016          1104          2594\n",
       "3   2017           810          3404\n",
       "4   2018           824          4228\n",
       "5   2019          1067          5295\n",
       "6   2020          1747          7042\n",
       "7   2021          1430          8472\n",
       "8   2022          2562         11034\n",
       "9   2023          2462         13496\n",
       "10  2024           545         14041"
      ]
     },
     "execution_count": 16,
     "metadata": {},
     "output_type": "execute_result"
    }
   ],
   "source": [
    "yearly_breakdown"
   ]
  },
  {
   "cell_type": "code",
   "execution_count": 17,
   "metadata": {},
   "outputs": [
    {
     "data": {
      "application/vnd.plotly.v1+json": {
       "config": {
        "plotlyServerURL": "https://plot.ly"
       },
       "data": [
        {
         "hovertemplate": "Year=%{x}<br># Cyber Incidents=%{text}<extra></extra>",
         "legendgroup": "",
         "line": {
          "color": "#636efa",
          "dash": "solid"
         },
         "marker": {
          "symbol": "circle"
         },
         "mode": "lines+markers+text",
         "name": "",
         "orientation": "v",
         "showlegend": false,
         "text": [
          633,
          857,
          1104,
          810,
          824,
          1067,
          1747,
          1430,
          2562,
          2462,
          545
         ],
         "type": "scatter",
         "x": [
          2014,
          2015,
          2016,
          2017,
          2018,
          2019,
          2020,
          2021,
          2022,
          2023,
          2024
         ],
         "xaxis": "x",
         "y": [
          633,
          857,
          1104,
          810,
          824,
          1067,
          1747,
          1430,
          2562,
          2462,
          545
         ],
         "yaxis": "y"
        }
       ],
       "layout": {
        "legend": {
         "tracegroupgap": 0
        },
        "margin": {
         "t": 60
        },
        "template": {
         "data": {
          "bar": [
           {
            "error_x": {
             "color": "#2a3f5f"
            },
            "error_y": {
             "color": "#2a3f5f"
            },
            "marker": {
             "line": {
              "color": "#E5ECF6",
              "width": 0.5
             },
             "pattern": {
              "fillmode": "overlay",
              "size": 10,
              "solidity": 0.2
             }
            },
            "type": "bar"
           }
          ],
          "barpolar": [
           {
            "marker": {
             "line": {
              "color": "#E5ECF6",
              "width": 0.5
             },
             "pattern": {
              "fillmode": "overlay",
              "size": 10,
              "solidity": 0.2
             }
            },
            "type": "barpolar"
           }
          ],
          "carpet": [
           {
            "aaxis": {
             "endlinecolor": "#2a3f5f",
             "gridcolor": "white",
             "linecolor": "white",
             "minorgridcolor": "white",
             "startlinecolor": "#2a3f5f"
            },
            "baxis": {
             "endlinecolor": "#2a3f5f",
             "gridcolor": "white",
             "linecolor": "white",
             "minorgridcolor": "white",
             "startlinecolor": "#2a3f5f"
            },
            "type": "carpet"
           }
          ],
          "choropleth": [
           {
            "colorbar": {
             "outlinewidth": 0,
             "ticks": ""
            },
            "type": "choropleth"
           }
          ],
          "contour": [
           {
            "colorbar": {
             "outlinewidth": 0,
             "ticks": ""
            },
            "colorscale": [
             [
              0,
              "#0d0887"
             ],
             [
              0.1111111111111111,
              "#46039f"
             ],
             [
              0.2222222222222222,
              "#7201a8"
             ],
             [
              0.3333333333333333,
              "#9c179e"
             ],
             [
              0.4444444444444444,
              "#bd3786"
             ],
             [
              0.5555555555555556,
              "#d8576b"
             ],
             [
              0.6666666666666666,
              "#ed7953"
             ],
             [
              0.7777777777777778,
              "#fb9f3a"
             ],
             [
              0.8888888888888888,
              "#fdca26"
             ],
             [
              1,
              "#f0f921"
             ]
            ],
            "type": "contour"
           }
          ],
          "contourcarpet": [
           {
            "colorbar": {
             "outlinewidth": 0,
             "ticks": ""
            },
            "type": "contourcarpet"
           }
          ],
          "heatmap": [
           {
            "colorbar": {
             "outlinewidth": 0,
             "ticks": ""
            },
            "colorscale": [
             [
              0,
              "#0d0887"
             ],
             [
              0.1111111111111111,
              "#46039f"
             ],
             [
              0.2222222222222222,
              "#7201a8"
             ],
             [
              0.3333333333333333,
              "#9c179e"
             ],
             [
              0.4444444444444444,
              "#bd3786"
             ],
             [
              0.5555555555555556,
              "#d8576b"
             ],
             [
              0.6666666666666666,
              "#ed7953"
             ],
             [
              0.7777777777777778,
              "#fb9f3a"
             ],
             [
              0.8888888888888888,
              "#fdca26"
             ],
             [
              1,
              "#f0f921"
             ]
            ],
            "type": "heatmap"
           }
          ],
          "heatmapgl": [
           {
            "colorbar": {
             "outlinewidth": 0,
             "ticks": ""
            },
            "colorscale": [
             [
              0,
              "#0d0887"
             ],
             [
              0.1111111111111111,
              "#46039f"
             ],
             [
              0.2222222222222222,
              "#7201a8"
             ],
             [
              0.3333333333333333,
              "#9c179e"
             ],
             [
              0.4444444444444444,
              "#bd3786"
             ],
             [
              0.5555555555555556,
              "#d8576b"
             ],
             [
              0.6666666666666666,
              "#ed7953"
             ],
             [
              0.7777777777777778,
              "#fb9f3a"
             ],
             [
              0.8888888888888888,
              "#fdca26"
             ],
             [
              1,
              "#f0f921"
             ]
            ],
            "type": "heatmapgl"
           }
          ],
          "histogram": [
           {
            "marker": {
             "pattern": {
              "fillmode": "overlay",
              "size": 10,
              "solidity": 0.2
             }
            },
            "type": "histogram"
           }
          ],
          "histogram2d": [
           {
            "colorbar": {
             "outlinewidth": 0,
             "ticks": ""
            },
            "colorscale": [
             [
              0,
              "#0d0887"
             ],
             [
              0.1111111111111111,
              "#46039f"
             ],
             [
              0.2222222222222222,
              "#7201a8"
             ],
             [
              0.3333333333333333,
              "#9c179e"
             ],
             [
              0.4444444444444444,
              "#bd3786"
             ],
             [
              0.5555555555555556,
              "#d8576b"
             ],
             [
              0.6666666666666666,
              "#ed7953"
             ],
             [
              0.7777777777777778,
              "#fb9f3a"
             ],
             [
              0.8888888888888888,
              "#fdca26"
             ],
             [
              1,
              "#f0f921"
             ]
            ],
            "type": "histogram2d"
           }
          ],
          "histogram2dcontour": [
           {
            "colorbar": {
             "outlinewidth": 0,
             "ticks": ""
            },
            "colorscale": [
             [
              0,
              "#0d0887"
             ],
             [
              0.1111111111111111,
              "#46039f"
             ],
             [
              0.2222222222222222,
              "#7201a8"
             ],
             [
              0.3333333333333333,
              "#9c179e"
             ],
             [
              0.4444444444444444,
              "#bd3786"
             ],
             [
              0.5555555555555556,
              "#d8576b"
             ],
             [
              0.6666666666666666,
              "#ed7953"
             ],
             [
              0.7777777777777778,
              "#fb9f3a"
             ],
             [
              0.8888888888888888,
              "#fdca26"
             ],
             [
              1,
              "#f0f921"
             ]
            ],
            "type": "histogram2dcontour"
           }
          ],
          "mesh3d": [
           {
            "colorbar": {
             "outlinewidth": 0,
             "ticks": ""
            },
            "type": "mesh3d"
           }
          ],
          "parcoords": [
           {
            "line": {
             "colorbar": {
              "outlinewidth": 0,
              "ticks": ""
             }
            },
            "type": "parcoords"
           }
          ],
          "pie": [
           {
            "automargin": true,
            "type": "pie"
           }
          ],
          "scatter": [
           {
            "fillpattern": {
             "fillmode": "overlay",
             "size": 10,
             "solidity": 0.2
            },
            "type": "scatter"
           }
          ],
          "scatter3d": [
           {
            "line": {
             "colorbar": {
              "outlinewidth": 0,
              "ticks": ""
             }
            },
            "marker": {
             "colorbar": {
              "outlinewidth": 0,
              "ticks": ""
             }
            },
            "type": "scatter3d"
           }
          ],
          "scattercarpet": [
           {
            "marker": {
             "colorbar": {
              "outlinewidth": 0,
              "ticks": ""
             }
            },
            "type": "scattercarpet"
           }
          ],
          "scattergeo": [
           {
            "marker": {
             "colorbar": {
              "outlinewidth": 0,
              "ticks": ""
             }
            },
            "type": "scattergeo"
           }
          ],
          "scattergl": [
           {
            "marker": {
             "colorbar": {
              "outlinewidth": 0,
              "ticks": ""
             }
            },
            "type": "scattergl"
           }
          ],
          "scattermapbox": [
           {
            "marker": {
             "colorbar": {
              "outlinewidth": 0,
              "ticks": ""
             }
            },
            "type": "scattermapbox"
           }
          ],
          "scatterpolar": [
           {
            "marker": {
             "colorbar": {
              "outlinewidth": 0,
              "ticks": ""
             }
            },
            "type": "scatterpolar"
           }
          ],
          "scatterpolargl": [
           {
            "marker": {
             "colorbar": {
              "outlinewidth": 0,
              "ticks": ""
             }
            },
            "type": "scatterpolargl"
           }
          ],
          "scatterternary": [
           {
            "marker": {
             "colorbar": {
              "outlinewidth": 0,
              "ticks": ""
             }
            },
            "type": "scatterternary"
           }
          ],
          "surface": [
           {
            "colorbar": {
             "outlinewidth": 0,
             "ticks": ""
            },
            "colorscale": [
             [
              0,
              "#0d0887"
             ],
             [
              0.1111111111111111,
              "#46039f"
             ],
             [
              0.2222222222222222,
              "#7201a8"
             ],
             [
              0.3333333333333333,
              "#9c179e"
             ],
             [
              0.4444444444444444,
              "#bd3786"
             ],
             [
              0.5555555555555556,
              "#d8576b"
             ],
             [
              0.6666666666666666,
              "#ed7953"
             ],
             [
              0.7777777777777778,
              "#fb9f3a"
             ],
             [
              0.8888888888888888,
              "#fdca26"
             ],
             [
              1,
              "#f0f921"
             ]
            ],
            "type": "surface"
           }
          ],
          "table": [
           {
            "cells": {
             "fill": {
              "color": "#EBF0F8"
             },
             "line": {
              "color": "white"
             }
            },
            "header": {
             "fill": {
              "color": "#C8D4E3"
             },
             "line": {
              "color": "white"
             }
            },
            "type": "table"
           }
          ]
         },
         "layout": {
          "annotationdefaults": {
           "arrowcolor": "#2a3f5f",
           "arrowhead": 0,
           "arrowwidth": 1
          },
          "autotypenumbers": "strict",
          "coloraxis": {
           "colorbar": {
            "outlinewidth": 0,
            "ticks": ""
           }
          },
          "colorscale": {
           "diverging": [
            [
             0,
             "#8e0152"
            ],
            [
             0.1,
             "#c51b7d"
            ],
            [
             0.2,
             "#de77ae"
            ],
            [
             0.3,
             "#f1b6da"
            ],
            [
             0.4,
             "#fde0ef"
            ],
            [
             0.5,
             "#f7f7f7"
            ],
            [
             0.6,
             "#e6f5d0"
            ],
            [
             0.7,
             "#b8e186"
            ],
            [
             0.8,
             "#7fbc41"
            ],
            [
             0.9,
             "#4d9221"
            ],
            [
             1,
             "#276419"
            ]
           ],
           "sequential": [
            [
             0,
             "#0d0887"
            ],
            [
             0.1111111111111111,
             "#46039f"
            ],
            [
             0.2222222222222222,
             "#7201a8"
            ],
            [
             0.3333333333333333,
             "#9c179e"
            ],
            [
             0.4444444444444444,
             "#bd3786"
            ],
            [
             0.5555555555555556,
             "#d8576b"
            ],
            [
             0.6666666666666666,
             "#ed7953"
            ],
            [
             0.7777777777777778,
             "#fb9f3a"
            ],
            [
             0.8888888888888888,
             "#fdca26"
            ],
            [
             1,
             "#f0f921"
            ]
           ],
           "sequentialminus": [
            [
             0,
             "#0d0887"
            ],
            [
             0.1111111111111111,
             "#46039f"
            ],
            [
             0.2222222222222222,
             "#7201a8"
            ],
            [
             0.3333333333333333,
             "#9c179e"
            ],
            [
             0.4444444444444444,
             "#bd3786"
            ],
            [
             0.5555555555555556,
             "#d8576b"
            ],
            [
             0.6666666666666666,
             "#ed7953"
            ],
            [
             0.7777777777777778,
             "#fb9f3a"
            ],
            [
             0.8888888888888888,
             "#fdca26"
            ],
            [
             1,
             "#f0f921"
            ]
           ]
          },
          "colorway": [
           "#636efa",
           "#EF553B",
           "#00cc96",
           "#ab63fa",
           "#FFA15A",
           "#19d3f3",
           "#FF6692",
           "#B6E880",
           "#FF97FF",
           "#FECB52"
          ],
          "font": {
           "color": "#2a3f5f"
          },
          "geo": {
           "bgcolor": "white",
           "lakecolor": "white",
           "landcolor": "#E5ECF6",
           "showlakes": true,
           "showland": true,
           "subunitcolor": "white"
          },
          "hoverlabel": {
           "align": "left"
          },
          "hovermode": "closest",
          "mapbox": {
           "style": "light"
          },
          "paper_bgcolor": "white",
          "plot_bgcolor": "#E5ECF6",
          "polar": {
           "angularaxis": {
            "gridcolor": "white",
            "linecolor": "white",
            "ticks": ""
           },
           "bgcolor": "#E5ECF6",
           "radialaxis": {
            "gridcolor": "white",
            "linecolor": "white",
            "ticks": ""
           }
          },
          "scene": {
           "xaxis": {
            "backgroundcolor": "#E5ECF6",
            "gridcolor": "white",
            "gridwidth": 2,
            "linecolor": "white",
            "showbackground": true,
            "ticks": "",
            "zerolinecolor": "white"
           },
           "yaxis": {
            "backgroundcolor": "#E5ECF6",
            "gridcolor": "white",
            "gridwidth": 2,
            "linecolor": "white",
            "showbackground": true,
            "ticks": "",
            "zerolinecolor": "white"
           },
           "zaxis": {
            "backgroundcolor": "#E5ECF6",
            "gridcolor": "white",
            "gridwidth": 2,
            "linecolor": "white",
            "showbackground": true,
            "ticks": "",
            "zerolinecolor": "white"
           }
          },
          "shapedefaults": {
           "line": {
            "color": "#2a3f5f"
           }
          },
          "ternary": {
           "aaxis": {
            "gridcolor": "white",
            "linecolor": "white",
            "ticks": ""
           },
           "baxis": {
            "gridcolor": "white",
            "linecolor": "white",
            "ticks": ""
           },
           "bgcolor": "#E5ECF6",
           "caxis": {
            "gridcolor": "white",
            "linecolor": "white",
            "ticks": ""
           }
          },
          "title": {
           "x": 0.05
          },
          "xaxis": {
           "automargin": true,
           "gridcolor": "white",
           "linecolor": "white",
           "ticks": "",
           "title": {
            "standoff": 15
           },
           "zerolinecolor": "white",
           "zerolinewidth": 2
          },
          "yaxis": {
           "automargin": true,
           "gridcolor": "white",
           "linecolor": "white",
           "ticks": "",
           "title": {
            "standoff": 15
           },
           "zerolinecolor": "white",
           "zerolinewidth": 2
          }
         }
        },
        "xaxis": {
         "anchor": "y",
         "domain": [
          0,
          1
         ],
         "title": {
          "text": "Year"
         }
        },
        "yaxis": {
         "anchor": "x",
         "domain": [
          0,
          1
         ],
         "title": {
          "text": "# Cyber Incidents"
         }
        }
       }
      }
     },
     "metadata": {},
     "output_type": "display_data"
    }
   ],
   "source": [
    "fig = px.line(yearly_breakdown, x=\"Year\", y=\"no_incidents\", text=\"no_incidents\",\n",
    "              labels={\n",
    "                  \"no_incidents\": \"# Cyber Incidents\",\n",
    "              })\n",
    "\n",
    "\n",
    "\n",
    "fig.show()"
   ]
  },
  {
   "cell_type": "code",
   "execution_count": 18,
   "metadata": {},
   "outputs": [
    {
     "data": {
      "application/vnd.plotly.v1+json": {
       "config": {
        "plotlyServerURL": "https://plot.ly"
       },
       "data": [
        {
         "name": "# cyber attacks",
         "type": "scatter",
         "x": [
          2014,
          2015,
          2016,
          2017,
          2018,
          2019,
          2020,
          2021,
          2022,
          2023,
          2024
         ],
         "y": [
          633,
          857,
          1104,
          810,
          824,
          1067,
          1747,
          1430,
          2562,
          2462,
          545
         ]
        },
        {
         "line": {
          "color": "skyblue",
          "dash": "dash",
          "width": 4
         },
         "mode": "lines",
         "name": "# cyber attacks (average)",
         "type": "scatter",
         "x": [
          2014,
          2015,
          2016,
          2017,
          2018,
          2019,
          2020,
          2021,
          2022,
          2023,
          2024
         ],
         "y": [
          1276.4545454545455,
          1276.4545454545455,
          1276.4545454545455,
          1276.4545454545455,
          1276.4545454545455,
          1276.4545454545455,
          1276.4545454545455,
          1276.4545454545455,
          1276.4545454545455,
          1276.4545454545455,
          1276.4545454545455
         ]
        }
       ],
       "layout": {
        "plot_bgcolor": "white",
        "showlegend": true,
        "template": {
         "data": {
          "bar": [
           {
            "error_x": {
             "color": "#2a3f5f"
            },
            "error_y": {
             "color": "#2a3f5f"
            },
            "marker": {
             "line": {
              "color": "#E5ECF6",
              "width": 0.5
             },
             "pattern": {
              "fillmode": "overlay",
              "size": 10,
              "solidity": 0.2
             }
            },
            "type": "bar"
           }
          ],
          "barpolar": [
           {
            "marker": {
             "line": {
              "color": "#E5ECF6",
              "width": 0.5
             },
             "pattern": {
              "fillmode": "overlay",
              "size": 10,
              "solidity": 0.2
             }
            },
            "type": "barpolar"
           }
          ],
          "carpet": [
           {
            "aaxis": {
             "endlinecolor": "#2a3f5f",
             "gridcolor": "white",
             "linecolor": "white",
             "minorgridcolor": "white",
             "startlinecolor": "#2a3f5f"
            },
            "baxis": {
             "endlinecolor": "#2a3f5f",
             "gridcolor": "white",
             "linecolor": "white",
             "minorgridcolor": "white",
             "startlinecolor": "#2a3f5f"
            },
            "type": "carpet"
           }
          ],
          "choropleth": [
           {
            "colorbar": {
             "outlinewidth": 0,
             "ticks": ""
            },
            "type": "choropleth"
           }
          ],
          "contour": [
           {
            "colorbar": {
             "outlinewidth": 0,
             "ticks": ""
            },
            "colorscale": [
             [
              0,
              "#0d0887"
             ],
             [
              0.1111111111111111,
              "#46039f"
             ],
             [
              0.2222222222222222,
              "#7201a8"
             ],
             [
              0.3333333333333333,
              "#9c179e"
             ],
             [
              0.4444444444444444,
              "#bd3786"
             ],
             [
              0.5555555555555556,
              "#d8576b"
             ],
             [
              0.6666666666666666,
              "#ed7953"
             ],
             [
              0.7777777777777778,
              "#fb9f3a"
             ],
             [
              0.8888888888888888,
              "#fdca26"
             ],
             [
              1,
              "#f0f921"
             ]
            ],
            "type": "contour"
           }
          ],
          "contourcarpet": [
           {
            "colorbar": {
             "outlinewidth": 0,
             "ticks": ""
            },
            "type": "contourcarpet"
           }
          ],
          "heatmap": [
           {
            "colorbar": {
             "outlinewidth": 0,
             "ticks": ""
            },
            "colorscale": [
             [
              0,
              "#0d0887"
             ],
             [
              0.1111111111111111,
              "#46039f"
             ],
             [
              0.2222222222222222,
              "#7201a8"
             ],
             [
              0.3333333333333333,
              "#9c179e"
             ],
             [
              0.4444444444444444,
              "#bd3786"
             ],
             [
              0.5555555555555556,
              "#d8576b"
             ],
             [
              0.6666666666666666,
              "#ed7953"
             ],
             [
              0.7777777777777778,
              "#fb9f3a"
             ],
             [
              0.8888888888888888,
              "#fdca26"
             ],
             [
              1,
              "#f0f921"
             ]
            ],
            "type": "heatmap"
           }
          ],
          "heatmapgl": [
           {
            "colorbar": {
             "outlinewidth": 0,
             "ticks": ""
            },
            "colorscale": [
             [
              0,
              "#0d0887"
             ],
             [
              0.1111111111111111,
              "#46039f"
             ],
             [
              0.2222222222222222,
              "#7201a8"
             ],
             [
              0.3333333333333333,
              "#9c179e"
             ],
             [
              0.4444444444444444,
              "#bd3786"
             ],
             [
              0.5555555555555556,
              "#d8576b"
             ],
             [
              0.6666666666666666,
              "#ed7953"
             ],
             [
              0.7777777777777778,
              "#fb9f3a"
             ],
             [
              0.8888888888888888,
              "#fdca26"
             ],
             [
              1,
              "#f0f921"
             ]
            ],
            "type": "heatmapgl"
           }
          ],
          "histogram": [
           {
            "marker": {
             "pattern": {
              "fillmode": "overlay",
              "size": 10,
              "solidity": 0.2
             }
            },
            "type": "histogram"
           }
          ],
          "histogram2d": [
           {
            "colorbar": {
             "outlinewidth": 0,
             "ticks": ""
            },
            "colorscale": [
             [
              0,
              "#0d0887"
             ],
             [
              0.1111111111111111,
              "#46039f"
             ],
             [
              0.2222222222222222,
              "#7201a8"
             ],
             [
              0.3333333333333333,
              "#9c179e"
             ],
             [
              0.4444444444444444,
              "#bd3786"
             ],
             [
              0.5555555555555556,
              "#d8576b"
             ],
             [
              0.6666666666666666,
              "#ed7953"
             ],
             [
              0.7777777777777778,
              "#fb9f3a"
             ],
             [
              0.8888888888888888,
              "#fdca26"
             ],
             [
              1,
              "#f0f921"
             ]
            ],
            "type": "histogram2d"
           }
          ],
          "histogram2dcontour": [
           {
            "colorbar": {
             "outlinewidth": 0,
             "ticks": ""
            },
            "colorscale": [
             [
              0,
              "#0d0887"
             ],
             [
              0.1111111111111111,
              "#46039f"
             ],
             [
              0.2222222222222222,
              "#7201a8"
             ],
             [
              0.3333333333333333,
              "#9c179e"
             ],
             [
              0.4444444444444444,
              "#bd3786"
             ],
             [
              0.5555555555555556,
              "#d8576b"
             ],
             [
              0.6666666666666666,
              "#ed7953"
             ],
             [
              0.7777777777777778,
              "#fb9f3a"
             ],
             [
              0.8888888888888888,
              "#fdca26"
             ],
             [
              1,
              "#f0f921"
             ]
            ],
            "type": "histogram2dcontour"
           }
          ],
          "mesh3d": [
           {
            "colorbar": {
             "outlinewidth": 0,
             "ticks": ""
            },
            "type": "mesh3d"
           }
          ],
          "parcoords": [
           {
            "line": {
             "colorbar": {
              "outlinewidth": 0,
              "ticks": ""
             }
            },
            "type": "parcoords"
           }
          ],
          "pie": [
           {
            "automargin": true,
            "type": "pie"
           }
          ],
          "scatter": [
           {
            "fillpattern": {
             "fillmode": "overlay",
             "size": 10,
             "solidity": 0.2
            },
            "type": "scatter"
           }
          ],
          "scatter3d": [
           {
            "line": {
             "colorbar": {
              "outlinewidth": 0,
              "ticks": ""
             }
            },
            "marker": {
             "colorbar": {
              "outlinewidth": 0,
              "ticks": ""
             }
            },
            "type": "scatter3d"
           }
          ],
          "scattercarpet": [
           {
            "marker": {
             "colorbar": {
              "outlinewidth": 0,
              "ticks": ""
             }
            },
            "type": "scattercarpet"
           }
          ],
          "scattergeo": [
           {
            "marker": {
             "colorbar": {
              "outlinewidth": 0,
              "ticks": ""
             }
            },
            "type": "scattergeo"
           }
          ],
          "scattergl": [
           {
            "marker": {
             "colorbar": {
              "outlinewidth": 0,
              "ticks": ""
             }
            },
            "type": "scattergl"
           }
          ],
          "scattermapbox": [
           {
            "marker": {
             "colorbar": {
              "outlinewidth": 0,
              "ticks": ""
             }
            },
            "type": "scattermapbox"
           }
          ],
          "scatterpolar": [
           {
            "marker": {
             "colorbar": {
              "outlinewidth": 0,
              "ticks": ""
             }
            },
            "type": "scatterpolar"
           }
          ],
          "scatterpolargl": [
           {
            "marker": {
             "colorbar": {
              "outlinewidth": 0,
              "ticks": ""
             }
            },
            "type": "scatterpolargl"
           }
          ],
          "scatterternary": [
           {
            "marker": {
             "colorbar": {
              "outlinewidth": 0,
              "ticks": ""
             }
            },
            "type": "scatterternary"
           }
          ],
          "surface": [
           {
            "colorbar": {
             "outlinewidth": 0,
             "ticks": ""
            },
            "colorscale": [
             [
              0,
              "#0d0887"
             ],
             [
              0.1111111111111111,
              "#46039f"
             ],
             [
              0.2222222222222222,
              "#7201a8"
             ],
             [
              0.3333333333333333,
              "#9c179e"
             ],
             [
              0.4444444444444444,
              "#bd3786"
             ],
             [
              0.5555555555555556,
              "#d8576b"
             ],
             [
              0.6666666666666666,
              "#ed7953"
             ],
             [
              0.7777777777777778,
              "#fb9f3a"
             ],
             [
              0.8888888888888888,
              "#fdca26"
             ],
             [
              1,
              "#f0f921"
             ]
            ],
            "type": "surface"
           }
          ],
          "table": [
           {
            "cells": {
             "fill": {
              "color": "#EBF0F8"
             },
             "line": {
              "color": "white"
             }
            },
            "header": {
             "fill": {
              "color": "#C8D4E3"
             },
             "line": {
              "color": "white"
             }
            },
            "type": "table"
           }
          ]
         },
         "layout": {
          "annotationdefaults": {
           "arrowcolor": "#2a3f5f",
           "arrowhead": 0,
           "arrowwidth": 1
          },
          "autotypenumbers": "strict",
          "coloraxis": {
           "colorbar": {
            "outlinewidth": 0,
            "ticks": ""
           }
          },
          "colorscale": {
           "diverging": [
            [
             0,
             "#8e0152"
            ],
            [
             0.1,
             "#c51b7d"
            ],
            [
             0.2,
             "#de77ae"
            ],
            [
             0.3,
             "#f1b6da"
            ],
            [
             0.4,
             "#fde0ef"
            ],
            [
             0.5,
             "#f7f7f7"
            ],
            [
             0.6,
             "#e6f5d0"
            ],
            [
             0.7,
             "#b8e186"
            ],
            [
             0.8,
             "#7fbc41"
            ],
            [
             0.9,
             "#4d9221"
            ],
            [
             1,
             "#276419"
            ]
           ],
           "sequential": [
            [
             0,
             "#0d0887"
            ],
            [
             0.1111111111111111,
             "#46039f"
            ],
            [
             0.2222222222222222,
             "#7201a8"
            ],
            [
             0.3333333333333333,
             "#9c179e"
            ],
            [
             0.4444444444444444,
             "#bd3786"
            ],
            [
             0.5555555555555556,
             "#d8576b"
            ],
            [
             0.6666666666666666,
             "#ed7953"
            ],
            [
             0.7777777777777778,
             "#fb9f3a"
            ],
            [
             0.8888888888888888,
             "#fdca26"
            ],
            [
             1,
             "#f0f921"
            ]
           ],
           "sequentialminus": [
            [
             0,
             "#0d0887"
            ],
            [
             0.1111111111111111,
             "#46039f"
            ],
            [
             0.2222222222222222,
             "#7201a8"
            ],
            [
             0.3333333333333333,
             "#9c179e"
            ],
            [
             0.4444444444444444,
             "#bd3786"
            ],
            [
             0.5555555555555556,
             "#d8576b"
            ],
            [
             0.6666666666666666,
             "#ed7953"
            ],
            [
             0.7777777777777778,
             "#fb9f3a"
            ],
            [
             0.8888888888888888,
             "#fdca26"
            ],
            [
             1,
             "#f0f921"
            ]
           ]
          },
          "colorway": [
           "#636efa",
           "#EF553B",
           "#00cc96",
           "#ab63fa",
           "#FFA15A",
           "#19d3f3",
           "#FF6692",
           "#B6E880",
           "#FF97FF",
           "#FECB52"
          ],
          "font": {
           "color": "#2a3f5f"
          },
          "geo": {
           "bgcolor": "white",
           "lakecolor": "white",
           "landcolor": "#E5ECF6",
           "showlakes": true,
           "showland": true,
           "subunitcolor": "white"
          },
          "hoverlabel": {
           "align": "left"
          },
          "hovermode": "closest",
          "mapbox": {
           "style": "light"
          },
          "paper_bgcolor": "white",
          "plot_bgcolor": "#E5ECF6",
          "polar": {
           "angularaxis": {
            "gridcolor": "white",
            "linecolor": "white",
            "ticks": ""
           },
           "bgcolor": "#E5ECF6",
           "radialaxis": {
            "gridcolor": "white",
            "linecolor": "white",
            "ticks": ""
           }
          },
          "scene": {
           "xaxis": {
            "backgroundcolor": "#E5ECF6",
            "gridcolor": "white",
            "gridwidth": 2,
            "linecolor": "white",
            "showbackground": true,
            "ticks": "",
            "zerolinecolor": "white"
           },
           "yaxis": {
            "backgroundcolor": "#E5ECF6",
            "gridcolor": "white",
            "gridwidth": 2,
            "linecolor": "white",
            "showbackground": true,
            "ticks": "",
            "zerolinecolor": "white"
           },
           "zaxis": {
            "backgroundcolor": "#E5ECF6",
            "gridcolor": "white",
            "gridwidth": 2,
            "linecolor": "white",
            "showbackground": true,
            "ticks": "",
            "zerolinecolor": "white"
           }
          },
          "shapedefaults": {
           "line": {
            "color": "#2a3f5f"
           }
          },
          "ternary": {
           "aaxis": {
            "gridcolor": "white",
            "linecolor": "white",
            "ticks": ""
           },
           "baxis": {
            "gridcolor": "white",
            "linecolor": "white",
            "ticks": ""
           },
           "bgcolor": "#E5ECF6",
           "caxis": {
            "gridcolor": "white",
            "linecolor": "white",
            "ticks": ""
           }
          },
          "title": {
           "x": 0.05
          },
          "xaxis": {
           "automargin": true,
           "gridcolor": "white",
           "linecolor": "white",
           "ticks": "",
           "title": {
            "standoff": 15
           },
           "zerolinecolor": "white",
           "zerolinewidth": 2
          },
          "yaxis": {
           "automargin": true,
           "gridcolor": "white",
           "linecolor": "white",
           "ticks": "",
           "title": {
            "standoff": 15
           },
           "zerolinecolor": "white",
           "zerolinewidth": 2
          }
         }
        },
        "title": {
         "text": "Cyber Events Database <br><sup>Center for International and Security Studies | University of Maryland</sup>"
        },
        "xaxis": {
         "linecolor": "#7f7f7f",
         "linewidth": 2,
         "range": [
          2013.9,
          2024.1
         ],
         "showgrid": false,
         "ticks": "outside"
        },
        "yaxis": {
         "ticksuffix": "  "
        }
       }
      }
     },
     "metadata": {},
     "output_type": "display_data"
    }
   ],
   "source": [
    "# Total number of cyber incidents over the last decade\n",
    "\n",
    "fig = go.Figure()\n",
    "# fig = go.Figure(layout=layout)\n",
    "\n",
    "# TRACES\n",
    "fig.add_trace(\n",
    "    go.Scatter(x=yearly_breakdown.Year, y=yearly_breakdown.no_incidents,\n",
    "                         name=\"# cyber attacks\")) # XXX: incidents, attacks?\n",
    "cum_sum = go.Scatter(x=yearly_breakdown.Year, y=yearly_breakdown.cs_incidents, \n",
    "                         name=\"Cumulative sum\",\n",
    "                         mode=\"lines\",\n",
    "                         line=dict(color='firebrick', width=4,\n",
    "                              dash='dash'))\n",
    "# fig.add_trace(cum_sum)\n",
    "avg_incidents = yearly_breakdown.no_incidents.mean()\n",
    "no_years = yearly_breakdown.Year.count()\n",
    "fig.add_trace(\n",
    "    go.Scatter(x=yearly_breakdown.Year, y=[avg_incidents] * no_years, \n",
    "               mode=\"lines\"\n",
    ",               name=\"# cyber attacks (average)\",\n",
    "               line=dict(color='skyblue', width=4,\n",
    "                              dash='dash')\n",
    "            #    visible=False,\n",
    "               ))\n",
    "\n",
    "# LAYOUT\n",
    "layout = dict(\n",
    "    title=\"Cyber Events Database <br><sup>Center for International and Security Studies | University of Maryland</sup>\",\n",
    "    xaxis=dict(\n",
    "        showgrid=False,\n",
    "        linecolor=\"#7f7f7f\",\n",
    "        linewidth=2,\n",
    "        ticks='outside'\n",
    "    ),\n",
    "    showlegend=True,\n",
    "    plot_bgcolor='white'\n",
    ")\n",
    "pad=0.1\n",
    "fig.update_xaxes(range=[2014-pad,2024+pad])\n",
    "fig.update_yaxes(ticksuffix=\"  \")\n",
    "fig.update_layout(layout)\n",
    "\n",
    "fig.show()\n",
    "\n",
    "# TODO: add max and min labels as per last chart here: https://plotly.com/python/dropdowns/\n",
    "# and source below graph as per Main Source for New chart here: https://plotly.com/python/line-charts/"
   ]
  },
  {
   "cell_type": "code",
   "execution_count": 19,
   "metadata": {},
   "outputs": [
    {
     "data": {
      "text/html": [
       "<div>\n",
       "<style scoped>\n",
       "    .dataframe tbody tr th:only-of-type {\n",
       "        vertical-align: middle;\n",
       "    }\n",
       "\n",
       "    .dataframe tbody tr th {\n",
       "        vertical-align: top;\n",
       "    }\n",
       "\n",
       "    .dataframe thead th {\n",
       "        text-align: right;\n",
       "    }\n",
       "</style>\n",
       "<table border=\"1\" class=\"dataframe\">\n",
       "  <thead>\n",
       "    <tr style=\"text-align: right;\">\n",
       "      <th></th>\n",
       "      <th>industry</th>\n",
       "      <th>count</th>\n",
       "    </tr>\n",
       "  </thead>\n",
       "  <tbody>\n",
       "    <tr>\n",
       "      <th>0</th>\n",
       "      <td>Public Administration</td>\n",
       "      <td>2648</td>\n",
       "    </tr>\n",
       "    <tr>\n",
       "      <th>1</th>\n",
       "      <td>Health Care and Social Assistance</td>\n",
       "      <td>1865</td>\n",
       "    </tr>\n",
       "    <tr>\n",
       "      <th>2</th>\n",
       "      <td>Information</td>\n",
       "      <td>1441</td>\n",
       "    </tr>\n",
       "    <tr>\n",
       "      <th>3</th>\n",
       "      <td>Finance and Insurance</td>\n",
       "      <td>1340</td>\n",
       "    </tr>\n",
       "    <tr>\n",
       "      <th>4</th>\n",
       "      <td>Educational Services</td>\n",
       "      <td>1322</td>\n",
       "    </tr>\n",
       "  </tbody>\n",
       "</table>\n",
       "</div>"
      ],
      "text/plain": [
       "                            industry  count\n",
       "0              Public Administration   2648\n",
       "1  Health Care and Social Assistance   1865\n",
       "2                        Information   1441\n",
       "3              Finance and Insurance   1340\n",
       "4               Educational Services   1322"
      ]
     },
     "execution_count": 19,
     "metadata": {},
     "output_type": "execute_result"
    }
   ],
   "source": [
    "industry_breakdown = db.industry.value_counts().to_frame().reset_index()\n",
    "industry_breakdown.head()"
   ]
  },
  {
   "cell_type": "code",
   "execution_count": 20,
   "metadata": {},
   "outputs": [
    {
     "data": {
      "text/plain": [
       "14    72\n",
       "5     48\n",
       "6     45\n",
       "17    45\n",
       "21    42\n",
       "20    39\n",
       "10    35\n",
       "16    34\n",
       "1     33\n",
       "11    31\n",
       "Name: industry, dtype: int64"
      ]
     },
     "execution_count": 20,
     "metadata": {},
     "output_type": "execute_result"
    }
   ],
   "source": [
    "industry_breakdown.industry.apply(lambda x: len(str(x))).sort_values(ascending=False)[:10]\n",
    "# industry_breakdown.iloc[14]\n",
    "# TODO: industry names are too long -> insert <br>\n",
    "# Consider hyphenation after 40 characters - length of Public Administration (2648)"
   ]
  },
  {
   "cell_type": "code",
   "execution_count": 21,
   "metadata": {},
   "outputs": [],
   "source": [
    "def combineCol(row):\n",
    "    return row[\"industry\"] + \" (\" + str(row[\"count\"]) + \")\"\n",
    "\n",
    "industry_breakdown[\"name_and_count\"] = industry_breakdown.apply(combineCol, axis=1)"
   ]
  },
  {
   "cell_type": "code",
   "execution_count": 22,
   "metadata": {},
   "outputs": [],
   "source": [
    "cut = len(\"Public Administration (2648)\")-1 # Allowing space for '-'\n",
    "\n",
    "def insert_br(name: str):\n",
    "    lines = int(len(name)/cut)\n",
    "    # None seems to require more than two lines\n",
    "    if (lines>1):\n",
    "        # return str(name[:cut] + \"-<br>\" + name[cut:])\n",
    "        return str(name[:cut] + \"\\n\" + name[cut:])\n",
    "\n",
    "    return name\n",
    "\n",
    "industry_breakdown[\"name_and_count_cut\"] = industry_breakdown.name_and_count.apply(lambda x: insert_br(x))"
   ]
  },
  {
   "cell_type": "code",
   "execution_count": 23,
   "metadata": {},
   "outputs": [
    {
     "data": {
      "text/plain": [
       "'Health Care and Social Assistance (1865)'"
      ]
     },
     "execution_count": 23,
     "metadata": {},
     "output_type": "execute_result"
    }
   ],
   "source": [
    "insert_br(\"Health Care and Social Assistance (1865)\")"
   ]
  },
  {
   "cell_type": "code",
   "execution_count": 24,
   "metadata": {},
   "outputs": [
    {
     "data": {
      "text/plain": [
       "0                          Public Administration (2648)\n",
       "1              Health Care and Social Assistance (1865)\n",
       "2                                    Information (1441)\n",
       "3                          Finance and Insurance (1340)\n",
       "4                           Educational Services (1322)\n",
       "5     Professional, Scientific, a\\nnd Technical Serv...\n",
       "6     Other Services (except Public Administration) ...\n",
       "7                                   Manufacturing (645)\n",
       "8                                    Retail Trade (469)\n",
       "9                  Transportation and Warehousing (443)\n",
       "10            Arts, Entertainment, and Recreation (420)\n",
       "11                Accommodation and Food Services (306)\n",
       "12                                      Utilities (270)\n",
       "13                                   Undetermined (209)\n",
       "14    Administrative and Support \\nand Waste Managem...\n",
       "15                                Wholesale Trade (107)\n",
       "16              Real Estate and Rental and Leasing (84)\n",
       "17    Mining, Quarrying, and Oil and Gas Extraction ...\n",
       "18                                    Construction (47)\n",
       "19                 Health Care and Social Services (27)\n",
       "20         Management of Companies and Enterprises (20)\n",
       "21      Agriculture, Forestry, Fishing and Hunting (18)\n",
       "22                                           Medusa (1)\n",
       "Name: name_and_count_cut, dtype: object"
      ]
     },
     "execution_count": 24,
     "metadata": {},
     "output_type": "execute_result"
    }
   ],
   "source": [
    "industry_breakdown.name_and_count_cut"
   ]
  },
  {
   "cell_type": "code",
   "execution_count": 25,
   "metadata": {},
   "outputs": [
    {
     "data": {
      "text/html": [
       "<div>\n",
       "<style scoped>\n",
       "    .dataframe tbody tr th:only-of-type {\n",
       "        vertical-align: middle;\n",
       "    }\n",
       "\n",
       "    .dataframe tbody tr th {\n",
       "        vertical-align: top;\n",
       "    }\n",
       "\n",
       "    .dataframe thead th {\n",
       "        text-align: right;\n",
       "    }\n",
       "</style>\n",
       "<table border=\"1\" class=\"dataframe\">\n",
       "  <thead>\n",
       "    <tr style=\"text-align: right;\">\n",
       "      <th></th>\n",
       "      <th>Year</th>\n",
       "      <th>no_incidents</th>\n",
       "    </tr>\n",
       "  </thead>\n",
       "  <tbody>\n",
       "    <tr>\n",
       "      <th>0</th>\n",
       "      <td>2014</td>\n",
       "      <td>165</td>\n",
       "    </tr>\n",
       "    <tr>\n",
       "      <th>1</th>\n",
       "      <td>2015</td>\n",
       "      <td>202</td>\n",
       "    </tr>\n",
       "    <tr>\n",
       "      <th>2</th>\n",
       "      <td>2016</td>\n",
       "      <td>312</td>\n",
       "    </tr>\n",
       "    <tr>\n",
       "      <th>3</th>\n",
       "      <td>2017</td>\n",
       "      <td>143</td>\n",
       "    </tr>\n",
       "    <tr>\n",
       "      <th>4</th>\n",
       "      <td>2018</td>\n",
       "      <td>159</td>\n",
       "    </tr>\n",
       "    <tr>\n",
       "      <th>5</th>\n",
       "      <td>2019</td>\n",
       "      <td>230</td>\n",
       "    </tr>\n",
       "    <tr>\n",
       "      <th>6</th>\n",
       "      <td>2020</td>\n",
       "      <td>274</td>\n",
       "    </tr>\n",
       "    <tr>\n",
       "      <th>7</th>\n",
       "      <td>2021</td>\n",
       "      <td>219</td>\n",
       "    </tr>\n",
       "    <tr>\n",
       "      <th>8</th>\n",
       "      <td>2022</td>\n",
       "      <td>486</td>\n",
       "    </tr>\n",
       "    <tr>\n",
       "      <th>9</th>\n",
       "      <td>2023</td>\n",
       "      <td>334</td>\n",
       "    </tr>\n",
       "    <tr>\n",
       "      <th>10</th>\n",
       "      <td>2024</td>\n",
       "      <td>124</td>\n",
       "    </tr>\n",
       "  </tbody>\n",
       "</table>\n",
       "</div>"
      ],
      "text/plain": [
       "    Year  no_incidents\n",
       "0   2014           165\n",
       "1   2015           202\n",
       "2   2016           312\n",
       "3   2017           143\n",
       "4   2018           159\n",
       "5   2019           230\n",
       "6   2020           274\n",
       "7   2021           219\n",
       "8   2022           486\n",
       "9   2023           334\n",
       "10  2024           124"
      ]
     },
     "execution_count": 25,
     "metadata": {},
     "output_type": "execute_result"
    }
   ],
   "source": [
    "# Make this dynamic - user can select industry and year range. \n",
    "yearly_bd_pubadm = db[db.industry==\"Public Administration\"].groupby(by=[\"year\"]).count()[\"slug\"].to_frame().reset_index()\n",
    "yearly_bd_pubadm.columns = [\"Year\", \"no_incidents\"]\n",
    "yearly_bd_pubadm"
   ]
  },
  {
   "cell_type": "code",
   "execution_count": 26,
   "metadata": {},
   "outputs": [
    {
     "data": {
      "application/vnd.plotly.v1+json": {
       "config": {
        "plotlyServerURL": "https://plot.ly"
       },
       "data": [
        {
         "name": "# Incidents",
         "type": "bar",
         "x": [
          2014,
          2015,
          2016,
          2017,
          2018,
          2019,
          2020,
          2021,
          2022,
          2023,
          2024
         ],
         "y": [
          165,
          202,
          312,
          143,
          159,
          230,
          274,
          219,
          486,
          334,
          124
         ]
        }
       ],
       "layout": {
        "annotations": [
         {
          "align": "left",
          "showarrow": false,
          "text": "Choose an industry",
          "x": -0.7,
          "xanchor": "left",
          "xref": "paper",
          "y": 1,
          "yref": "paper"
         }
        ],
        "height": 400,
        "plot_bgcolor": "white",
        "showlegend": true,
        "template": {
         "data": {
          "bar": [
           {
            "error_x": {
             "color": "#2a3f5f"
            },
            "error_y": {
             "color": "#2a3f5f"
            },
            "marker": {
             "line": {
              "color": "#E5ECF6",
              "width": 0.5
             },
             "pattern": {
              "fillmode": "overlay",
              "size": 10,
              "solidity": 0.2
             }
            },
            "type": "bar"
           }
          ],
          "barpolar": [
           {
            "marker": {
             "line": {
              "color": "#E5ECF6",
              "width": 0.5
             },
             "pattern": {
              "fillmode": "overlay",
              "size": 10,
              "solidity": 0.2
             }
            },
            "type": "barpolar"
           }
          ],
          "carpet": [
           {
            "aaxis": {
             "endlinecolor": "#2a3f5f",
             "gridcolor": "white",
             "linecolor": "white",
             "minorgridcolor": "white",
             "startlinecolor": "#2a3f5f"
            },
            "baxis": {
             "endlinecolor": "#2a3f5f",
             "gridcolor": "white",
             "linecolor": "white",
             "minorgridcolor": "white",
             "startlinecolor": "#2a3f5f"
            },
            "type": "carpet"
           }
          ],
          "choropleth": [
           {
            "colorbar": {
             "outlinewidth": 0,
             "ticks": ""
            },
            "type": "choropleth"
           }
          ],
          "contour": [
           {
            "colorbar": {
             "outlinewidth": 0,
             "ticks": ""
            },
            "colorscale": [
             [
              0,
              "#0d0887"
             ],
             [
              0.1111111111111111,
              "#46039f"
             ],
             [
              0.2222222222222222,
              "#7201a8"
             ],
             [
              0.3333333333333333,
              "#9c179e"
             ],
             [
              0.4444444444444444,
              "#bd3786"
             ],
             [
              0.5555555555555556,
              "#d8576b"
             ],
             [
              0.6666666666666666,
              "#ed7953"
             ],
             [
              0.7777777777777778,
              "#fb9f3a"
             ],
             [
              0.8888888888888888,
              "#fdca26"
             ],
             [
              1,
              "#f0f921"
             ]
            ],
            "type": "contour"
           }
          ],
          "contourcarpet": [
           {
            "colorbar": {
             "outlinewidth": 0,
             "ticks": ""
            },
            "type": "contourcarpet"
           }
          ],
          "heatmap": [
           {
            "colorbar": {
             "outlinewidth": 0,
             "ticks": ""
            },
            "colorscale": [
             [
              0,
              "#0d0887"
             ],
             [
              0.1111111111111111,
              "#46039f"
             ],
             [
              0.2222222222222222,
              "#7201a8"
             ],
             [
              0.3333333333333333,
              "#9c179e"
             ],
             [
              0.4444444444444444,
              "#bd3786"
             ],
             [
              0.5555555555555556,
              "#d8576b"
             ],
             [
              0.6666666666666666,
              "#ed7953"
             ],
             [
              0.7777777777777778,
              "#fb9f3a"
             ],
             [
              0.8888888888888888,
              "#fdca26"
             ],
             [
              1,
              "#f0f921"
             ]
            ],
            "type": "heatmap"
           }
          ],
          "heatmapgl": [
           {
            "colorbar": {
             "outlinewidth": 0,
             "ticks": ""
            },
            "colorscale": [
             [
              0,
              "#0d0887"
             ],
             [
              0.1111111111111111,
              "#46039f"
             ],
             [
              0.2222222222222222,
              "#7201a8"
             ],
             [
              0.3333333333333333,
              "#9c179e"
             ],
             [
              0.4444444444444444,
              "#bd3786"
             ],
             [
              0.5555555555555556,
              "#d8576b"
             ],
             [
              0.6666666666666666,
              "#ed7953"
             ],
             [
              0.7777777777777778,
              "#fb9f3a"
             ],
             [
              0.8888888888888888,
              "#fdca26"
             ],
             [
              1,
              "#f0f921"
             ]
            ],
            "type": "heatmapgl"
           }
          ],
          "histogram": [
           {
            "marker": {
             "pattern": {
              "fillmode": "overlay",
              "size": 10,
              "solidity": 0.2
             }
            },
            "type": "histogram"
           }
          ],
          "histogram2d": [
           {
            "colorbar": {
             "outlinewidth": 0,
             "ticks": ""
            },
            "colorscale": [
             [
              0,
              "#0d0887"
             ],
             [
              0.1111111111111111,
              "#46039f"
             ],
             [
              0.2222222222222222,
              "#7201a8"
             ],
             [
              0.3333333333333333,
              "#9c179e"
             ],
             [
              0.4444444444444444,
              "#bd3786"
             ],
             [
              0.5555555555555556,
              "#d8576b"
             ],
             [
              0.6666666666666666,
              "#ed7953"
             ],
             [
              0.7777777777777778,
              "#fb9f3a"
             ],
             [
              0.8888888888888888,
              "#fdca26"
             ],
             [
              1,
              "#f0f921"
             ]
            ],
            "type": "histogram2d"
           }
          ],
          "histogram2dcontour": [
           {
            "colorbar": {
             "outlinewidth": 0,
             "ticks": ""
            },
            "colorscale": [
             [
              0,
              "#0d0887"
             ],
             [
              0.1111111111111111,
              "#46039f"
             ],
             [
              0.2222222222222222,
              "#7201a8"
             ],
             [
              0.3333333333333333,
              "#9c179e"
             ],
             [
              0.4444444444444444,
              "#bd3786"
             ],
             [
              0.5555555555555556,
              "#d8576b"
             ],
             [
              0.6666666666666666,
              "#ed7953"
             ],
             [
              0.7777777777777778,
              "#fb9f3a"
             ],
             [
              0.8888888888888888,
              "#fdca26"
             ],
             [
              1,
              "#f0f921"
             ]
            ],
            "type": "histogram2dcontour"
           }
          ],
          "mesh3d": [
           {
            "colorbar": {
             "outlinewidth": 0,
             "ticks": ""
            },
            "type": "mesh3d"
           }
          ],
          "parcoords": [
           {
            "line": {
             "colorbar": {
              "outlinewidth": 0,
              "ticks": ""
             }
            },
            "type": "parcoords"
           }
          ],
          "pie": [
           {
            "automargin": true,
            "type": "pie"
           }
          ],
          "scatter": [
           {
            "fillpattern": {
             "fillmode": "overlay",
             "size": 10,
             "solidity": 0.2
            },
            "type": "scatter"
           }
          ],
          "scatter3d": [
           {
            "line": {
             "colorbar": {
              "outlinewidth": 0,
              "ticks": ""
             }
            },
            "marker": {
             "colorbar": {
              "outlinewidth": 0,
              "ticks": ""
             }
            },
            "type": "scatter3d"
           }
          ],
          "scattercarpet": [
           {
            "marker": {
             "colorbar": {
              "outlinewidth": 0,
              "ticks": ""
             }
            },
            "type": "scattercarpet"
           }
          ],
          "scattergeo": [
           {
            "marker": {
             "colorbar": {
              "outlinewidth": 0,
              "ticks": ""
             }
            },
            "type": "scattergeo"
           }
          ],
          "scattergl": [
           {
            "marker": {
             "colorbar": {
              "outlinewidth": 0,
              "ticks": ""
             }
            },
            "type": "scattergl"
           }
          ],
          "scattermapbox": [
           {
            "marker": {
             "colorbar": {
              "outlinewidth": 0,
              "ticks": ""
             }
            },
            "type": "scattermapbox"
           }
          ],
          "scatterpolar": [
           {
            "marker": {
             "colorbar": {
              "outlinewidth": 0,
              "ticks": ""
             }
            },
            "type": "scatterpolar"
           }
          ],
          "scatterpolargl": [
           {
            "marker": {
             "colorbar": {
              "outlinewidth": 0,
              "ticks": ""
             }
            },
            "type": "scatterpolargl"
           }
          ],
          "scatterternary": [
           {
            "marker": {
             "colorbar": {
              "outlinewidth": 0,
              "ticks": ""
             }
            },
            "type": "scatterternary"
           }
          ],
          "surface": [
           {
            "colorbar": {
             "outlinewidth": 0,
             "ticks": ""
            },
            "colorscale": [
             [
              0,
              "#0d0887"
             ],
             [
              0.1111111111111111,
              "#46039f"
             ],
             [
              0.2222222222222222,
              "#7201a8"
             ],
             [
              0.3333333333333333,
              "#9c179e"
             ],
             [
              0.4444444444444444,
              "#bd3786"
             ],
             [
              0.5555555555555556,
              "#d8576b"
             ],
             [
              0.6666666666666666,
              "#ed7953"
             ],
             [
              0.7777777777777778,
              "#fb9f3a"
             ],
             [
              0.8888888888888888,
              "#fdca26"
             ],
             [
              1,
              "#f0f921"
             ]
            ],
            "type": "surface"
           }
          ],
          "table": [
           {
            "cells": {
             "fill": {
              "color": "#EBF0F8"
             },
             "line": {
              "color": "white"
             }
            },
            "header": {
             "fill": {
              "color": "#C8D4E3"
             },
             "line": {
              "color": "white"
             }
            },
            "type": "table"
           }
          ]
         },
         "layout": {
          "annotationdefaults": {
           "arrowcolor": "#2a3f5f",
           "arrowhead": 0,
           "arrowwidth": 1
          },
          "autotypenumbers": "strict",
          "coloraxis": {
           "colorbar": {
            "outlinewidth": 0,
            "ticks": ""
           }
          },
          "colorscale": {
           "diverging": [
            [
             0,
             "#8e0152"
            ],
            [
             0.1,
             "#c51b7d"
            ],
            [
             0.2,
             "#de77ae"
            ],
            [
             0.3,
             "#f1b6da"
            ],
            [
             0.4,
             "#fde0ef"
            ],
            [
             0.5,
             "#f7f7f7"
            ],
            [
             0.6,
             "#e6f5d0"
            ],
            [
             0.7,
             "#b8e186"
            ],
            [
             0.8,
             "#7fbc41"
            ],
            [
             0.9,
             "#4d9221"
            ],
            [
             1,
             "#276419"
            ]
           ],
           "sequential": [
            [
             0,
             "#0d0887"
            ],
            [
             0.1111111111111111,
             "#46039f"
            ],
            [
             0.2222222222222222,
             "#7201a8"
            ],
            [
             0.3333333333333333,
             "#9c179e"
            ],
            [
             0.4444444444444444,
             "#bd3786"
            ],
            [
             0.5555555555555556,
             "#d8576b"
            ],
            [
             0.6666666666666666,
             "#ed7953"
            ],
            [
             0.7777777777777778,
             "#fb9f3a"
            ],
            [
             0.8888888888888888,
             "#fdca26"
            ],
            [
             1,
             "#f0f921"
            ]
           ],
           "sequentialminus": [
            [
             0,
             "#0d0887"
            ],
            [
             0.1111111111111111,
             "#46039f"
            ],
            [
             0.2222222222222222,
             "#7201a8"
            ],
            [
             0.3333333333333333,
             "#9c179e"
            ],
            [
             0.4444444444444444,
             "#bd3786"
            ],
            [
             0.5555555555555556,
             "#d8576b"
            ],
            [
             0.6666666666666666,
             "#ed7953"
            ],
            [
             0.7777777777777778,
             "#fb9f3a"
            ],
            [
             0.8888888888888888,
             "#fdca26"
            ],
            [
             1,
             "#f0f921"
            ]
           ]
          },
          "colorway": [
           "#636efa",
           "#EF553B",
           "#00cc96",
           "#ab63fa",
           "#FFA15A",
           "#19d3f3",
           "#FF6692",
           "#B6E880",
           "#FF97FF",
           "#FECB52"
          ],
          "font": {
           "color": "#2a3f5f"
          },
          "geo": {
           "bgcolor": "white",
           "lakecolor": "white",
           "landcolor": "#E5ECF6",
           "showlakes": true,
           "showland": true,
           "subunitcolor": "white"
          },
          "hoverlabel": {
           "align": "left"
          },
          "hovermode": "closest",
          "mapbox": {
           "style": "light"
          },
          "paper_bgcolor": "white",
          "plot_bgcolor": "#E5ECF6",
          "polar": {
           "angularaxis": {
            "gridcolor": "white",
            "linecolor": "white",
            "ticks": ""
           },
           "bgcolor": "#E5ECF6",
           "radialaxis": {
            "gridcolor": "white",
            "linecolor": "white",
            "ticks": ""
           }
          },
          "scene": {
           "xaxis": {
            "backgroundcolor": "#E5ECF6",
            "gridcolor": "white",
            "gridwidth": 2,
            "linecolor": "white",
            "showbackground": true,
            "ticks": "",
            "zerolinecolor": "white"
           },
           "yaxis": {
            "backgroundcolor": "#E5ECF6",
            "gridcolor": "white",
            "gridwidth": 2,
            "linecolor": "white",
            "showbackground": true,
            "ticks": "",
            "zerolinecolor": "white"
           },
           "zaxis": {
            "backgroundcolor": "#E5ECF6",
            "gridcolor": "white",
            "gridwidth": 2,
            "linecolor": "white",
            "showbackground": true,
            "ticks": "",
            "zerolinecolor": "white"
           }
          },
          "shapedefaults": {
           "line": {
            "color": "#2a3f5f"
           }
          },
          "ternary": {
           "aaxis": {
            "gridcolor": "white",
            "linecolor": "white",
            "ticks": ""
           },
           "baxis": {
            "gridcolor": "white",
            "linecolor": "white",
            "ticks": ""
           },
           "bgcolor": "#E5ECF6",
           "caxis": {
            "gridcolor": "white",
            "linecolor": "white",
            "ticks": ""
           }
          },
          "title": {
           "x": 0.05
          },
          "xaxis": {
           "automargin": true,
           "gridcolor": "white",
           "linecolor": "white",
           "ticks": "",
           "title": {
            "standoff": 15
           },
           "zerolinecolor": "white",
           "zerolinewidth": 2
          },
          "yaxis": {
           "automargin": true,
           "gridcolor": "white",
           "linecolor": "white",
           "ticks": "",
           "title": {
            "standoff": 15
           },
           "zerolinecolor": "white",
           "zerolinewidth": 2
          }
         }
        },
        "updatemenus": [
         {
          "buttons": [
           {
            "args": [
             "type",
             "scatter"
            ],
            "label": "Public Administration (2648)",
            "method": "restyle"
           },
           {
            "args": [
             "type",
             "scatter"
            ],
            "label": "Health Care and Social Assi-<br>stance (1865)",
            "method": "restyle"
           }
          ],
          "direction": "down",
          "x": -0.7,
          "xanchor": "left",
          "y": 0.9
         }
        ],
        "width": 800,
        "xaxis": {
         "showgrid": false,
         "showline": false,
         "ticks": "outside"
        },
        "yaxis": {
         "ticksuffix": "  ",
         "zeroline": false
        }
       }
      }
     },
     "metadata": {},
     "output_type": "display_data"
    }
   ],
   "source": [
    "# Cyber attacks broken down by industry\n",
    "\n",
    "fig = go.Figure()\n",
    "# fig = go.Figure(layout=layout)\n",
    "\n",
    "# TRACES\n",
    "fig.add_trace(\n",
    "    go.Bar(x=yearly_bd_pubadm.Year, y=yearly_bd_pubadm.no_incidents,\n",
    "                         name=\"# Incidents\"))\n",
    "# avg_incidents = yearly_bd_pubadm.no_incidents.mean()\n",
    "# no_years = yearly_bd_pubadm.Year.count()\n",
    "\n",
    "\n",
    "\n",
    "# LAYOUT and AXES\n",
    "layout = dict(\n",
    "    width=800,\n",
    "    height=400,\n",
    "    # title=\"Cyber Events Database <br><sup>Center for International and Security Studies | University of Maryland</sup>\",\n",
    "    xaxis=dict(\n",
    "        showgrid=False,\n",
    "        ticks='outside',\n",
    "        showline=False\n",
    "    ),\n",
    "    yaxis=dict(\n",
    "        zeroline=False\n",
    "    ),\n",
    "    showlegend=True,\n",
    "    plot_bgcolor='white',\n",
    ")\n",
    "fig.update_layout(layout)\n",
    "fig.update_yaxes(ticksuffix=\"  \")\n",
    "\n",
    "# ANNOTATIONS\n",
    "x_left = -0.7\n",
    "y_left=1\n",
    "fig.update_layout(\n",
    "    annotations=[\n",
    "        dict(text=\"Choose an industry\", xref=\"paper\", yref=\"paper\",\n",
    "             xanchor=\"left\",\n",
    "             y=y_left, x=x_left,\n",
    "             align=\"left\", showarrow=False)\n",
    "    ]\n",
    ")\n",
    "\n",
    "\n",
    "# DROP-DOWNS\n",
    "# Individual industry or All - multiselect seemingly only available in Dash: https://dash.plotly.com/dash-core-components/dropdown\n",
    "fig.update_layout(\n",
    "    updatemenus=[\n",
    "        dict(\n",
    "            buttons=list([\n",
    "                dict(\n",
    "                    args=[\"type\", \"scatter\"],\n",
    "                    label=\"Public Administration (2648)\",\n",
    "                    method=\"restyle\"\n",
    "                ),\n",
    "                dict(\n",
    "                    args=[\"type\", \"scatter\"],\n",
    "                    label=\"Health Care and Social Assi-<br>stance (1865)\",\n",
    "                    # BUG\n",
    "                    # label=insert_br(\"Health Care and Social Assistance (1865)\"),\n",
    "                    method=\"restyle\"\n",
    "                )\n",
    "            ]),\n",
    "            xanchor='left',\n",
    "            direction=\"down\",\n",
    "            # pad={\"r\": 10, \"t\": 10},\n",
    "            x=x_left,\n",
    "            y=y_left-0.1,\n",
    "            # font=dict(size=14),\n",
    "            # width=150\n",
    "        )\n",
    "    ]\n",
    ")\n",
    "\n",
    "fig.show()"
   ]
  },
  {
   "cell_type": "code",
   "execution_count": 27,
   "metadata": {},
   "outputs": [
    {
     "data": {
      "text/plain": [
       "'Health Care and Social Assis'"
      ]
     },
     "execution_count": 27,
     "metadata": {},
     "output_type": "execute_result"
    }
   ],
   "source": [
    "\"Health Care and Social Assistance (1865)\"[:28]"
   ]
  },
  {
   "cell_type": "code",
   "execution_count": 28,
   "metadata": {},
   "outputs": [
    {
     "data": {
      "text/plain": [
       "country\n",
       "United States of America                                6779\n",
       "United Kingdom of Great Britain and Northern Ireland     756\n",
       "Italy                                                    413\n",
       "Ukraine                                                  407\n",
       "Russian Federation                                       389\n",
       "Undetermined                                             380\n",
       "Canada                                                   364\n",
       "India                                                    324\n",
       "France                                                   264\n",
       "Australia                                                263\n",
       "Germany                                                  244\n",
       "Israel                                                   201\n",
       "China                                                    161\n",
       "Japan                                                    160\n",
       "Brazil                                                   146\n",
       "Name: count, dtype: int64"
      ]
     },
     "execution_count": 28,
     "metadata": {},
     "output_type": "execute_result"
    }
   ],
   "source": [
    "db.country.value_counts()[:15]\n",
    "# Does this mean that the US is the most attacked country or that they report the most?"
   ]
  },
  {
   "cell_type": "code",
   "execution_count": 29,
   "metadata": {},
   "outputs": [],
   "source": [
    "# db.columns\n",
    "# I think country is target_country as the other is actor_country\n",
    "# https://cissm.umd.edu/cyber-events-database\n",
    "# Consider displaying the top 10-15 countries as a stacked area chart, known as filled area plot in Dash\n",
    "# https://plotly.com/python/filled-area-plots/\n",
    "\n",
    "# ? Most common actor target pairs, did one influence the other?"
   ]
  },
  {
   "cell_type": "code",
   "execution_count": null,
   "metadata": {},
   "outputs": [],
   "source": []
  }
 ],
 "metadata": {
  "kernelspec": {
   "display_name": "env",
   "language": "python",
   "name": "python3"
  },
  "language_info": {
   "codemirror_mode": {
    "name": "ipython",
    "version": 3
   },
   "file_extension": ".py",
   "mimetype": "text/x-python",
   "name": "python",
   "nbconvert_exporter": "python",
   "pygments_lexer": "ipython3",
   "version": "3.10.6"
  }
 },
 "nbformat": 4,
 "nbformat_minor": 2
}
